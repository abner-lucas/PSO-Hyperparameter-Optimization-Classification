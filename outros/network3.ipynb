{
 "cells": [
  {
   "cell_type": "markdown",
   "source": [
    "# Rede Neural"
   ],
   "metadata": {}
  },
  {
   "cell_type": "code",
   "execution_count": 174,
   "source": [
    "# Imports\r\n",
    "import random\r\n",
    "import numpy as np"
   ],
   "outputs": [],
   "metadata": {}
  },
  {
   "cell_type": "markdown",
   "source": [
    "## Classe Network"
   ],
   "metadata": {}
  },
  {
   "cell_type": "code",
   "execution_count": 175,
   "source": [
    "class Network(object):\r\n",
    "\r\n",
    "    def __init__(self, sizes):\r\n",
    "        self.num_layers = len(sizes)   # número de camadas da rede\r\n",
    "        self.sizes = sizes             # lista com o número de neurônios em cada camada\r\n",
    "        \r\n",
    "        self.biases = [np.random.randn(y, 1) for y in sizes[1:]] # lista de listas de bias\r\n",
    "        self.weights = [np.random.randn(y, x) for x, y in zip(sizes[:-1], sizes[1:])] # lista de listas de pesos\r\n",
    "\r\n",
    "    def training(self, training_data, method_auto, epochs, mini_batch_size, eta, test_data=None):\r\n",
    "        training_data = list(training_data)\r\n",
    "        n = len(training_data) # número de entradas de treinamento\r\n",
    "\r\n",
    "        if test_data:\r\n",
    "            test_data = list(test_data)\r\n",
    "            n_test = len(test_data) # número de entradas de teste\r\n",
    "\r\n",
    "        for j in range(epochs):\r\n",
    "            random.shuffle(training_data) # embaralha os dados de treinamento\r\n",
    "            mini_batches = [training_data[k:k+mini_batch_size] for k in range(0, n, mini_batch_size)] # divide os dados de treinamento em mini lotes\r\n",
    "            \r\n",
    "            if method_auto == \"sgd\":\r\n",
    "                for mini_batch in mini_batches:\r\n",
    "                    self.update_sgd(mini_batch, eta)\r\n",
    "            elif method_auto == \"pso\":\r\n",
    "                for mini_batch in mini_batches:\r\n",
    "                    self.update_pso(mini_batch)\r\n",
    "                    break\r\n",
    "            \r\n",
    "            if test_data:\r\n",
    "                print(\"Epoch {} : {} / {}\".format(j,self.evaluate(test_data),n_test));\r\n",
    "            else:\r\n",
    "                print(\"Epoch {} finalizada\".format(j))\r\n",
    "\r\n",
    "### ATUALIZAÇÃO COM PARTICULE SWARM OPTMIZATION ###########################################\r\n",
    "    def update_pso(self, mini_batch):\r\n",
    "        nabla_b = []\r\n",
    "        nabla_w = []\r\n",
    "        for i in range(len(self.biases)):\r\n",
    "            nabla_b.append(np.reshape(self.biases[i], len(self.biases[i])))\r\n",
    "            print(self.biases[i])\r\n",
    "        for i in range(len(self.weights)):\r\n",
    "            nabla_w.append(np.reshape(self.weights[i], len(self.weights[i])))\r\n",
    "            print(self.weights[i])\r\n",
    "            \r\n",
    "        from itertools import chain\r\n",
    "        list_comb_bw = zip(self.biases, self.weights)\r\n",
    "        #for particule in list_comb_bw:\r\n",
    "            #print(list(chain(particule)))\r\n",
    "\r\n",
    "        #for x, y in mini_batch:\r\n",
    "            \r\n",
    "\r\n",
    "### ATUALIZAÇÃO COM STOCHASTIC GRADIENT DESCENDENT ###########################################\r\n",
    "    def update_sgd(self, mini_batch, eta):\r\n",
    "        nabla_b = [np.zeros(b.shape) for b in self.biases]\r\n",
    "        nabla_w = [np.zeros(w.shape) for w in self.weights]\r\n",
    "        \r\n",
    "        for x, y in mini_batch:\r\n",
    "            delta_nabla_b, delta_nabla_w = self.backprop(x, y) # calcula o gradiente\r\n",
    "            nabla_b = [nb+dnb for nb, dnb in zip(nabla_b, delta_nabla_b)]\r\n",
    "            nabla_w = [nw+dnw for nw, dnw in zip(nabla_w, delta_nabla_w)] \r\n",
    "        \r\n",
    "        self.weights = [w-(eta/len(mini_batch))*nw for w, nw in zip(self.weights, nabla_w)]\r\n",
    "        self.biases = [b-(eta/len(mini_batch))*nb for b, nb in zip(self.biases, nabla_b)]\r\n",
    "\r\n",
    "    def backprop(self, x, y):\r\n",
    "        nabla_b = [np.zeros(b.shape) for b in self.biases]\r\n",
    "        nabla_w = [np.zeros(w.shape) for w in self.weights]\r\n",
    "        \r\n",
    "        # Feedforward\r\n",
    "        activation = x\r\n",
    "\r\n",
    "        # Lista para armazenar todas as ativações, camada por camada\r\n",
    "        activations = [x] \r\n",
    "\r\n",
    "        # Lista para armazenar todos os vetores z, camada por camada\r\n",
    "        zs = [] \r\n",
    "\r\n",
    "        for b, w in zip(self.biases, self.weights):\r\n",
    "            z = np.dot(w, activation)+b\r\n",
    "            zs.append(z)\r\n",
    "            activation = sigmoid(z)\r\n",
    "            activations.append(activation)\r\n",
    "        \r\n",
    "        # Backward pass\r\n",
    "        delta = self.cost_derivative(activations[-1], y) * sigmoid_prime(zs[-1])\r\n",
    "        nabla_b[-1] = delta\r\n",
    "        nabla_w[-1] = np.dot(delta, activations[-2].transpose())\r\n",
    "        \r\n",
    "        # Aqui, l = 1 significa a última camada de neurônios, l = 2 é a segunda e assim por diante. \r\n",
    "        for l in range(2, self.num_layers):\r\n",
    "            z = zs[-l]\r\n",
    "            sp = sigmoid_prime(z)\r\n",
    "            delta = np.dot(self.weights[-l+1].transpose(), delta) * sp\r\n",
    "            nabla_b[-l] = delta\r\n",
    "            nabla_w[-l] = np.dot(delta, activations[-l-1].transpose())\r\n",
    "        return (nabla_b, nabla_w)\r\n",
    "\r\n",
    "    def cost_derivative(self, output_activations, y):\r\n",
    "        \"\"\"Retorna o vetor das derivadas parciais.\"\"\"\r\n",
    "        return (output_activations-y)\r\n",
    "#############################################################################################\r\n",
    "\r\n",
    "    def evaluate(self, test_data):\r\n",
    "        test_results = [(np.argmax(self.feedforward(x)), y) for (x, y) in test_data]\r\n",
    "        return sum(int(x == y) for (x, y) in test_results)\r\n",
    "\r\n",
    "    def feedforward(self, a):\r\n",
    "        for b, w in zip(self.biases, self.weights):\r\n",
    "            a = sigmoid(np.dot(w, a)+b) # ativação da camada com função sigmoid\r\n",
    "        return a"
   ],
   "outputs": [],
   "metadata": {}
  },
  {
   "cell_type": "code",
   "execution_count": 176,
   "source": [
    "from itertools import chain\r\n",
    "l1 = ['a', 'b']\r\n",
    "l2 = [1, 2]\r\n",
    "list_comb_bw = zip(l1, l2)\r\n",
    "for particule in list_comb_bw:\r\n",
    "    print(list(chain(particule)))"
   ],
   "outputs": [
    {
     "output_type": "stream",
     "name": "stdout",
     "text": [
      "['a', 1]\n",
      "['b', 2]\n"
     ]
    }
   ],
   "metadata": {}
  },
  {
   "cell_type": "code",
   "execution_count": 177,
   "source": [
    "# Função de Ativação Sigmóide\r\n",
    "def sigmoid(z):\r\n",
    "    return 1.0/(1.0+np.exp(-z))\r\n",
    "\r\n",
    "# Função para retornar as derivadas da função Sigmóide\r\n",
    "def sigmoid_prime(z):\r\n",
    "    return sigmoid(z)*(1-sigmoid(z))"
   ],
   "outputs": [],
   "metadata": {}
  },
  {
   "cell_type": "markdown",
   "source": [
    "# Teste com Gradiente Descende e Backpropagation"
   ],
   "metadata": {}
  },
  {
   "cell_type": "code",
   "execution_count": 178,
   "source": [
    "# Imports\r\n",
    "import mnist_loader\r\n",
    "\r\n",
    "training_data, validation_data, test_data = mnist_loader.load_data_wrapper()\r\n",
    "training_data = list(training_data)\r\n",
    "\r\n",
    "\r\n",
    "net = Network([784, 30, 10])\r\n",
    "#net.training(training_data,'sgd', 30, 10, 3.0, test_data=test_data)\r\n",
    "net.training(training_data,'pso', 1, 10, 3.0, test_data=test_data)"
   ],
   "outputs": [
    {
     "output_type": "stream",
     "name": "stdout",
     "text": [
      "[[-0.12106628]\n",
      " [-0.09913118]\n",
      " [-0.42268925]\n",
      " [-0.89802033]\n",
      " [-1.47384925]\n",
      " [ 2.07869423]\n",
      " [ 0.81005913]\n",
      " [-1.80473984]\n",
      " [-1.12750612]\n",
      " [ 1.33505805]\n",
      " [ 1.5284314 ]\n",
      " [ 0.63717277]\n",
      " [ 0.39174347]\n",
      " [ 1.40911934]\n",
      " [ 0.22917535]\n",
      " [-1.10110683]\n",
      " [-0.16241956]\n",
      " [-1.26930386]\n",
      " [-1.36507526]\n",
      " [ 1.3329589 ]\n",
      " [ 0.10898515]\n",
      " [-0.84309332]\n",
      " [ 0.18425875]\n",
      " [ 1.14042205]\n",
      " [ 1.07546823]\n",
      " [ 1.20407698]\n",
      " [-1.14209708]\n",
      " [ 1.0963799 ]\n",
      " [-0.0114067 ]\n",
      " [ 0.46167057]]\n",
      "[[ 1.98642641]\n",
      " [-1.70375508]\n",
      " [-1.02074499]\n",
      " [-0.03764122]\n",
      " [-1.23145817]\n",
      " [-0.77822488]\n",
      " [-0.2969054 ]\n",
      " [ 2.92686212]\n",
      " [ 0.27768863]\n",
      " [-0.82734502]]\n"
     ]
    },
    {
     "output_type": "error",
     "ename": "ValueError",
     "evalue": "cannot reshape array of size 23520 into shape (30,)",
     "traceback": [
      "\u001b[1;31m---------------------------------------------------------------------------\u001b[0m",
      "\u001b[1;31mValueError\u001b[0m                                Traceback (most recent call last)",
      "\u001b[1;32m<ipython-input-178-1912b2dcfb2f>\u001b[0m in \u001b[0;36m<module>\u001b[1;34m\u001b[0m\n\u001b[0;32m      8\u001b[0m \u001b[0mnet\u001b[0m \u001b[1;33m=\u001b[0m \u001b[0mNetwork\u001b[0m\u001b[1;33m(\u001b[0m\u001b[1;33m[\u001b[0m\u001b[1;36m784\u001b[0m\u001b[1;33m,\u001b[0m \u001b[1;36m30\u001b[0m\u001b[1;33m,\u001b[0m \u001b[1;36m10\u001b[0m\u001b[1;33m]\u001b[0m\u001b[1;33m)\u001b[0m\u001b[1;33m\u001b[0m\u001b[1;33m\u001b[0m\u001b[0m\n\u001b[0;32m      9\u001b[0m \u001b[1;31m#net.training(training_data,'sgd', 30, 10, 3.0, test_data=test_data)\u001b[0m\u001b[1;33m\u001b[0m\u001b[1;33m\u001b[0m\u001b[1;33m\u001b[0m\u001b[0m\n\u001b[1;32m---> 10\u001b[1;33m \u001b[0mnet\u001b[0m\u001b[1;33m.\u001b[0m\u001b[0mtraining\u001b[0m\u001b[1;33m(\u001b[0m\u001b[0mtraining_data\u001b[0m\u001b[1;33m,\u001b[0m\u001b[1;34m'pso'\u001b[0m\u001b[1;33m,\u001b[0m \u001b[1;36m1\u001b[0m\u001b[1;33m,\u001b[0m \u001b[1;36m10\u001b[0m\u001b[1;33m,\u001b[0m \u001b[1;36m3.0\u001b[0m\u001b[1;33m,\u001b[0m \u001b[0mtest_data\u001b[0m\u001b[1;33m=\u001b[0m\u001b[0mtest_data\u001b[0m\u001b[1;33m)\u001b[0m\u001b[1;33m\u001b[0m\u001b[1;33m\u001b[0m\u001b[0m\n\u001b[0m",
      "\u001b[1;32m<ipython-input-175-e14527022167>\u001b[0m in \u001b[0;36mtraining\u001b[1;34m(self, training_data, method_auto, epochs, mini_batch_size, eta, test_data)\u001b[0m\n\u001b[0;32m     25\u001b[0m             \u001b[1;32melif\u001b[0m \u001b[0mmethod_auto\u001b[0m \u001b[1;33m==\u001b[0m \u001b[1;34m\"pso\"\u001b[0m\u001b[1;33m:\u001b[0m\u001b[1;33m\u001b[0m\u001b[1;33m\u001b[0m\u001b[0m\n\u001b[0;32m     26\u001b[0m                 \u001b[1;32mfor\u001b[0m \u001b[0mmini_batch\u001b[0m \u001b[1;32min\u001b[0m \u001b[0mmini_batches\u001b[0m\u001b[1;33m:\u001b[0m\u001b[1;33m\u001b[0m\u001b[1;33m\u001b[0m\u001b[0m\n\u001b[1;32m---> 27\u001b[1;33m                     \u001b[0mself\u001b[0m\u001b[1;33m.\u001b[0m\u001b[0mupdate_pso\u001b[0m\u001b[1;33m(\u001b[0m\u001b[0mmini_batch\u001b[0m\u001b[1;33m)\u001b[0m\u001b[1;33m\u001b[0m\u001b[1;33m\u001b[0m\u001b[0m\n\u001b[0m\u001b[0;32m     28\u001b[0m                     \u001b[1;32mbreak\u001b[0m\u001b[1;33m\u001b[0m\u001b[1;33m\u001b[0m\u001b[0m\n\u001b[0;32m     29\u001b[0m \u001b[1;33m\u001b[0m\u001b[0m\n",
      "\u001b[1;32m<ipython-input-175-e14527022167>\u001b[0m in \u001b[0;36mupdate_pso\u001b[1;34m(self, mini_batch)\u001b[0m\n\u001b[0;32m     41\u001b[0m             \u001b[0mprint\u001b[0m\u001b[1;33m(\u001b[0m\u001b[0mself\u001b[0m\u001b[1;33m.\u001b[0m\u001b[0mbiases\u001b[0m\u001b[1;33m[\u001b[0m\u001b[0mi\u001b[0m\u001b[1;33m]\u001b[0m\u001b[1;33m)\u001b[0m\u001b[1;33m\u001b[0m\u001b[1;33m\u001b[0m\u001b[0m\n\u001b[0;32m     42\u001b[0m         \u001b[1;32mfor\u001b[0m \u001b[0mi\u001b[0m \u001b[1;32min\u001b[0m \u001b[0mrange\u001b[0m\u001b[1;33m(\u001b[0m\u001b[0mlen\u001b[0m\u001b[1;33m(\u001b[0m\u001b[0mself\u001b[0m\u001b[1;33m.\u001b[0m\u001b[0mweights\u001b[0m\u001b[1;33m)\u001b[0m\u001b[1;33m)\u001b[0m\u001b[1;33m:\u001b[0m\u001b[1;33m\u001b[0m\u001b[1;33m\u001b[0m\u001b[0m\n\u001b[1;32m---> 43\u001b[1;33m             \u001b[0mnabla_w\u001b[0m\u001b[1;33m.\u001b[0m\u001b[0mappend\u001b[0m\u001b[1;33m(\u001b[0m\u001b[0mnp\u001b[0m\u001b[1;33m.\u001b[0m\u001b[0mreshape\u001b[0m\u001b[1;33m(\u001b[0m\u001b[0mself\u001b[0m\u001b[1;33m.\u001b[0m\u001b[0mweights\u001b[0m\u001b[1;33m[\u001b[0m\u001b[0mi\u001b[0m\u001b[1;33m]\u001b[0m\u001b[1;33m,\u001b[0m \u001b[0mlen\u001b[0m\u001b[1;33m(\u001b[0m\u001b[0mself\u001b[0m\u001b[1;33m.\u001b[0m\u001b[0mweights\u001b[0m\u001b[1;33m[\u001b[0m\u001b[0mi\u001b[0m\u001b[1;33m]\u001b[0m\u001b[1;33m)\u001b[0m\u001b[1;33m)\u001b[0m\u001b[1;33m)\u001b[0m\u001b[1;33m\u001b[0m\u001b[1;33m\u001b[0m\u001b[0m\n\u001b[0m\u001b[0;32m     44\u001b[0m             \u001b[0mprint\u001b[0m\u001b[1;33m(\u001b[0m\u001b[0mself\u001b[0m\u001b[1;33m.\u001b[0m\u001b[0mweights\u001b[0m\u001b[1;33m[\u001b[0m\u001b[0mi\u001b[0m\u001b[1;33m]\u001b[0m\u001b[1;33m)\u001b[0m\u001b[1;33m\u001b[0m\u001b[1;33m\u001b[0m\u001b[0m\n\u001b[0;32m     45\u001b[0m \u001b[1;33m\u001b[0m\u001b[0m\n",
      "\u001b[1;32m<__array_function__ internals>\u001b[0m in \u001b[0;36mreshape\u001b[1;34m(*args, **kwargs)\u001b[0m\n",
      "\u001b[1;32m~\\anaconda3\\lib\\site-packages\\numpy\\core\\fromnumeric.py\u001b[0m in \u001b[0;36mreshape\u001b[1;34m(a, newshape, order)\u001b[0m\n\u001b[0;32m    297\u001b[0m            [5, 6]])\n\u001b[0;32m    298\u001b[0m     \"\"\"\n\u001b[1;32m--> 299\u001b[1;33m     \u001b[1;32mreturn\u001b[0m \u001b[0m_wrapfunc\u001b[0m\u001b[1;33m(\u001b[0m\u001b[0ma\u001b[0m\u001b[1;33m,\u001b[0m \u001b[1;34m'reshape'\u001b[0m\u001b[1;33m,\u001b[0m \u001b[0mnewshape\u001b[0m\u001b[1;33m,\u001b[0m \u001b[0morder\u001b[0m\u001b[1;33m=\u001b[0m\u001b[0morder\u001b[0m\u001b[1;33m)\u001b[0m\u001b[1;33m\u001b[0m\u001b[1;33m\u001b[0m\u001b[0m\n\u001b[0m\u001b[0;32m    300\u001b[0m \u001b[1;33m\u001b[0m\u001b[0m\n\u001b[0;32m    301\u001b[0m \u001b[1;33m\u001b[0m\u001b[0m\n",
      "\u001b[1;32m~\\anaconda3\\lib\\site-packages\\numpy\\core\\fromnumeric.py\u001b[0m in \u001b[0;36m_wrapfunc\u001b[1;34m(obj, method, *args, **kwds)\u001b[0m\n\u001b[0;32m     56\u001b[0m \u001b[1;33m\u001b[0m\u001b[0m\n\u001b[0;32m     57\u001b[0m     \u001b[1;32mtry\u001b[0m\u001b[1;33m:\u001b[0m\u001b[1;33m\u001b[0m\u001b[1;33m\u001b[0m\u001b[0m\n\u001b[1;32m---> 58\u001b[1;33m         \u001b[1;32mreturn\u001b[0m \u001b[0mbound\u001b[0m\u001b[1;33m(\u001b[0m\u001b[1;33m*\u001b[0m\u001b[0margs\u001b[0m\u001b[1;33m,\u001b[0m \u001b[1;33m**\u001b[0m\u001b[0mkwds\u001b[0m\u001b[1;33m)\u001b[0m\u001b[1;33m\u001b[0m\u001b[1;33m\u001b[0m\u001b[0m\n\u001b[0m\u001b[0;32m     59\u001b[0m     \u001b[1;32mexcept\u001b[0m \u001b[0mTypeError\u001b[0m\u001b[1;33m:\u001b[0m\u001b[1;33m\u001b[0m\u001b[1;33m\u001b[0m\u001b[0m\n\u001b[0;32m     60\u001b[0m         \u001b[1;31m# A TypeError occurs if the object does have such a method in its\u001b[0m\u001b[1;33m\u001b[0m\u001b[1;33m\u001b[0m\u001b[1;33m\u001b[0m\u001b[0m\n",
      "\u001b[1;31mValueError\u001b[0m: cannot reshape array of size 23520 into shape (30,)"
     ]
    }
   ],
   "metadata": {}
  }
 ],
 "metadata": {
  "orig_nbformat": 4,
  "language_info": {
   "name": "python",
   "version": "3.8.8",
   "mimetype": "text/x-python",
   "codemirror_mode": {
    "name": "ipython",
    "version": 3
   },
   "pygments_lexer": "ipython3",
   "nbconvert_exporter": "python",
   "file_extension": ".py"
  },
  "kernelspec": {
   "name": "python3",
   "display_name": "Python 3.8.8 64-bit ('base': conda)"
  },
  "interpreter": {
   "hash": "4c4c8cfd539e0411d3cc5c1e72b05a7dbcf36342c56df37f381a6ef1a534e6cb"
  }
 },
 "nbformat": 4,
 "nbformat_minor": 2
}