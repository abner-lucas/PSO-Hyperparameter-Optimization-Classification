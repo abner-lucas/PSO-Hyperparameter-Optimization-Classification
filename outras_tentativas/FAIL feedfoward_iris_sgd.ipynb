{
 "cells": [
  {
   "cell_type": "markdown",
   "source": [
    "# Dataset"
   ],
   "metadata": {}
  },
  {
   "cell_type": "code",
   "execution_count": 1,
   "source": [
    "from sklearn.datasets import load_iris\r\n",
    "\r\n",
    "# Carregando dataset de iris\r\n",
    "dataset = load_iris()\r\n",
    "\r\n",
    "# Guardando dados de entrada e as saídas desejadas para cada amostra de treinamento\r\n",
    "treino = [(x, y) for x, y in zip(dataset.data[:130], dataset.target[:130])]\r\n",
    "\r\n",
    "# Guardando dados de entrada e as saídas desejadas para cada amostra de teste\r\n",
    "teste = [(x, y) for x, y in zip(dataset.data[130:], dataset.target[130:])]"
   ],
   "outputs": [],
   "metadata": {}
  },
  {
   "cell_type": "markdown",
   "source": [
    "# Parâmetros da rede neural"
   ],
   "metadata": {}
  },
  {
   "cell_type": "code",
   "execution_count": 2,
   "source": [
    "import random\r\n",
    "import numpy as np\r\n",
    "\r\n",
    "# Arquiteura da rede neural\r\n",
    "n_entrada = 4                # número de entradas na camada de entrada\r\n",
    "n_oculta = 20                  # número de neurônios na camada oculta\r\n",
    "n_saida = 3                  # número de classes na camada de saídas\r\n",
    "n_amostras = len(teste)     # número de amostras"
   ],
   "outputs": [],
   "metadata": {}
  },
  {
   "cell_type": "markdown",
   "source": [
    "# Ativação, propagação e compração dos resultados"
   ],
   "metadata": {}
  },
  {
   "cell_type": "code",
   "execution_count": 3,
   "source": [
    "class Network(object):\r\n",
    "    def __init__(self, sizes):\r\n",
    "        self.num_layers = len(sizes)   # número de camadas da rede\r\n",
    "        self.sizes = sizes             # lista com o número de neurônios em cada camada\r\n",
    "        \r\n",
    "        self.biases = [np.random.randn(y, 1) for y in sizes[1:]] # lista de listas de bias\r\n",
    "        self.weights = [np.random.randn(y, x) for x, y in zip(sizes[:-1], sizes[1:])] # lista de listas de pesos\r\n",
    "\r\n",
    "    def training(self, training_data, method_auto, epochs, mini_batch_size, eta, test_data=None):\r\n",
    "        training_data = list(training_data)\r\n",
    "        n = len(training_data) # número de entradas de treinamento\r\n",
    "\r\n",
    "        if test_data:\r\n",
    "            test_data = list(test_data)\r\n",
    "            n_test = len(test_data) # número de entradas de teste\r\n",
    "\r\n",
    "        for j in range(epochs):\r\n",
    "            random.shuffle(training_data) # embaralha os dados de treinamento\r\n",
    "            mini_batches = [training_data[k:k+mini_batch_size] for k in range(0, n, mini_batch_size)] # divide os dados de treinamento em mini lotes\r\n",
    "            \r\n",
    "            if method_auto == \"sgd\":\r\n",
    "                for mini_batch in mini_batches:\r\n",
    "                    self.update_sgd(mini_batch, eta)\r\n",
    "            elif method_auto == \"pso\":\r\n",
    "                for mini_batch in mini_batches:\r\n",
    "                    self.update_pso(mini_batch)\r\n",
    "                    break\r\n",
    "            \r\n",
    "            if test_data:\r\n",
    "                print(\"Epoch {} : {} / {}\".format(j,self.evaluate(test_data),n_test));\r\n",
    "            else:\r\n",
    "                print(\"Epoch {} finalizada\".format(j))\r\n",
    "    \r\n",
    "    def update_sgd(self, mini_batch, eta):\r\n",
    "        nabla_b = [np.zeros(b.shape) for b in self.biases]\r\n",
    "        nabla_w = [np.zeros(w.shape) for w in self.weights]\r\n",
    "        \r\n",
    "        for x, y in mini_batch:\r\n",
    "            delta_nabla_b, delta_nabla_w = self.backprop(x, y) # calcula o gradiente\r\n",
    "            nabla_b = [nb+dnb for nb, dnb in zip(nabla_b, delta_nabla_b)]\r\n",
    "            nabla_w = [nw+dnw for nw, dnw in zip(nabla_w, delta_nabla_w)] \r\n",
    "        \r\n",
    "        self.weights = [w-(eta/len(mini_batch))*nw for w, nw in zip(self.weights, nabla_w)]\r\n",
    "        self.biases = [b-(eta/len(mini_batch))*nb for b, nb in zip(self.biases, nabla_b)]\r\n",
    "\r\n",
    "    def backprop(self, x, y):\r\n",
    "        nabla_b = [np.zeros(b.shape) for b in self.biases]\r\n",
    "        nabla_w = [np.zeros(w.shape) for w in self.weights]\r\n",
    "\r\n",
    "         # Feedforward\r\n",
    "        activation = x\r\n",
    "\r\n",
    "        # Lista para armazenar todas as ativações, camada por camada\r\n",
    "        activations = [x] \r\n",
    "\r\n",
    "        # Lista para armazenar todos os vetores z, camada por camada\r\n",
    "        zs = [] \r\n",
    "\r\n",
    "        for b, w in zip(self.biases, self.weights):\r\n",
    "            z = np.dot(w, activation)+b\r\n",
    "            zs.append(z)\r\n",
    "            activation = sigmoid(z)\r\n",
    "            activations.append(activation)\r\n",
    "        \r\n",
    "        # Backward pass\r\n",
    "        delta = self.cost_derivative(activations[-1], y) * sigmoid_prime(zs[-1])\r\n",
    "        nabla_b[-1] = delta\r\n",
    "        nabla_w[-1] = np.dot(delta, activations[-2].transpose())\r\n",
    "        \r\n",
    "        # Aqui, l = 1 significa a última camada de neurônios, l = 2 é a segunda e assim por diante. \r\n",
    "        for l in range(2, self.num_layers):\r\n",
    "            z = zs[-l]\r\n",
    "            sp = sigmoid_prime(z)\r\n",
    "            delta = np.dot(self.weights[-l+1].transpose(), delta) * sp\r\n",
    "            nabla_b[-l] = delta\r\n",
    "            nabla_w[-l] = np.dot(delta, activations[-l-1].transpose())\r\n",
    "        return (nabla_b, nabla_w)\r\n",
    "    \r\n",
    "    def cost_derivative(self, output_activations, y):\r\n",
    "        \"\"\"Retorna o vetor das derivadas parciais.\"\"\"\r\n",
    "        return (output_activations-y)\r\n",
    "\r\n",
    "    def evaluate(self, test_data):\r\n",
    "        test_results = [(np.argmax(self.feedforward(x)), y) for (x, y) in test_data]\r\n",
    "        return sum(int(x == y) for (x, y) in test_results)\r\n",
    "\r\n",
    "    def feedforward(self, a):\r\n",
    "        for b, w in zip(self.biases, self.weights):\r\n",
    "            a = sigmoid(np.dot(w, a)+b) # ativação da camada com função sigmoid\r\n",
    "        return a"
   ],
   "outputs": [],
   "metadata": {}
  },
  {
   "cell_type": "code",
   "execution_count": 4,
   "source": [
    "# Função de Ativação Sigmóide\r\n",
    "def sigmoid(z):\r\n",
    "    return 1.0/(1.0+np.exp(-z))\r\n",
    "\r\n",
    "# Função para retornar as derivadas da função Sigmóide\r\n",
    "def sigmoid_prime(z):\r\n",
    "    return sigmoid(z)*(1-sigmoid(z))"
   ],
   "outputs": [],
   "metadata": {}
  },
  {
   "cell_type": "markdown",
   "source": [
    "# Execução do treinamento"
   ],
   "metadata": {}
  },
  {
   "cell_type": "code",
   "execution_count": 5,
   "source": [
    "net = Network([4, 20, 3])\r\n",
    "net.training(treino,'sgd', 30, 10, 3.0, test_data=teste)"
   ],
   "outputs": [
    {
     "output_type": "error",
     "ename": "ValueError",
     "evalue": "shapes (20,20) and (4,) not aligned: 20 (dim 1) != 4 (dim 0)",
     "traceback": [
      "\u001b[1;31m---------------------------------------------------------------------------\u001b[0m",
      "\u001b[1;31mValueError\u001b[0m                                Traceback (most recent call last)",
      "\u001b[1;32m<ipython-input-5-1f8d04deb92c>\u001b[0m in \u001b[0;36m<module>\u001b[1;34m\u001b[0m\n\u001b[0;32m      1\u001b[0m \u001b[0mnet\u001b[0m \u001b[1;33m=\u001b[0m \u001b[0mNetwork\u001b[0m\u001b[1;33m(\u001b[0m\u001b[1;33m[\u001b[0m\u001b[1;36m4\u001b[0m\u001b[1;33m,\u001b[0m \u001b[1;36m20\u001b[0m\u001b[1;33m,\u001b[0m \u001b[1;36m3\u001b[0m\u001b[1;33m]\u001b[0m\u001b[1;33m)\u001b[0m\u001b[1;33m\u001b[0m\u001b[1;33m\u001b[0m\u001b[0m\n\u001b[1;32m----> 2\u001b[1;33m \u001b[0mnet\u001b[0m\u001b[1;33m.\u001b[0m\u001b[0mtraining\u001b[0m\u001b[1;33m(\u001b[0m\u001b[0mtreino\u001b[0m\u001b[1;33m,\u001b[0m\u001b[1;34m'sgd'\u001b[0m\u001b[1;33m,\u001b[0m \u001b[1;36m30\u001b[0m\u001b[1;33m,\u001b[0m \u001b[1;36m10\u001b[0m\u001b[1;33m,\u001b[0m \u001b[1;36m3.0\u001b[0m\u001b[1;33m,\u001b[0m \u001b[0mtest_data\u001b[0m\u001b[1;33m=\u001b[0m\u001b[0mteste\u001b[0m\u001b[1;33m)\u001b[0m\u001b[1;33m\u001b[0m\u001b[1;33m\u001b[0m\u001b[0m\n\u001b[0m",
      "\u001b[1;32m<ipython-input-3-995c5e00e1bd>\u001b[0m in \u001b[0;36mtraining\u001b[1;34m(self, training_data, method_auto, epochs, mini_batch_size, eta, test_data)\u001b[0m\n\u001b[0;32m     21\u001b[0m             \u001b[1;32mif\u001b[0m \u001b[0mmethod_auto\u001b[0m \u001b[1;33m==\u001b[0m \u001b[1;34m\"sgd\"\u001b[0m\u001b[1;33m:\u001b[0m\u001b[1;33m\u001b[0m\u001b[1;33m\u001b[0m\u001b[0m\n\u001b[0;32m     22\u001b[0m                 \u001b[1;32mfor\u001b[0m \u001b[0mmini_batch\u001b[0m \u001b[1;32min\u001b[0m \u001b[0mmini_batches\u001b[0m\u001b[1;33m:\u001b[0m\u001b[1;33m\u001b[0m\u001b[1;33m\u001b[0m\u001b[0m\n\u001b[1;32m---> 23\u001b[1;33m                     \u001b[0mself\u001b[0m\u001b[1;33m.\u001b[0m\u001b[0mupdate_sgd\u001b[0m\u001b[1;33m(\u001b[0m\u001b[0mmini_batch\u001b[0m\u001b[1;33m,\u001b[0m \u001b[0meta\u001b[0m\u001b[1;33m)\u001b[0m\u001b[1;33m\u001b[0m\u001b[1;33m\u001b[0m\u001b[0m\n\u001b[0m\u001b[0;32m     24\u001b[0m             \u001b[1;32melif\u001b[0m \u001b[0mmethod_auto\u001b[0m \u001b[1;33m==\u001b[0m \u001b[1;34m\"pso\"\u001b[0m\u001b[1;33m:\u001b[0m\u001b[1;33m\u001b[0m\u001b[1;33m\u001b[0m\u001b[0m\n\u001b[0;32m     25\u001b[0m                 \u001b[1;32mfor\u001b[0m \u001b[0mmini_batch\u001b[0m \u001b[1;32min\u001b[0m \u001b[0mmini_batches\u001b[0m\u001b[1;33m:\u001b[0m\u001b[1;33m\u001b[0m\u001b[1;33m\u001b[0m\u001b[0m\n",
      "\u001b[1;32m<ipython-input-3-995c5e00e1bd>\u001b[0m in \u001b[0;36mupdate_sgd\u001b[1;34m(self, mini_batch, eta)\u001b[0m\n\u001b[0;32m     37\u001b[0m \u001b[1;33m\u001b[0m\u001b[0m\n\u001b[0;32m     38\u001b[0m         \u001b[1;32mfor\u001b[0m \u001b[0mx\u001b[0m\u001b[1;33m,\u001b[0m \u001b[0my\u001b[0m \u001b[1;32min\u001b[0m \u001b[0mmini_batch\u001b[0m\u001b[1;33m:\u001b[0m\u001b[1;33m\u001b[0m\u001b[1;33m\u001b[0m\u001b[0m\n\u001b[1;32m---> 39\u001b[1;33m             \u001b[0mdelta_nabla_b\u001b[0m\u001b[1;33m,\u001b[0m \u001b[0mdelta_nabla_w\u001b[0m \u001b[1;33m=\u001b[0m \u001b[0mself\u001b[0m\u001b[1;33m.\u001b[0m\u001b[0mbackprop\u001b[0m\u001b[1;33m(\u001b[0m\u001b[0mx\u001b[0m\u001b[1;33m,\u001b[0m \u001b[0my\u001b[0m\u001b[1;33m)\u001b[0m \u001b[1;31m# calcula o gradiente\u001b[0m\u001b[1;33m\u001b[0m\u001b[1;33m\u001b[0m\u001b[0m\n\u001b[0m\u001b[0;32m     40\u001b[0m             \u001b[0mnabla_b\u001b[0m \u001b[1;33m=\u001b[0m \u001b[1;33m[\u001b[0m\u001b[0mnb\u001b[0m\u001b[1;33m+\u001b[0m\u001b[0mdnb\u001b[0m \u001b[1;32mfor\u001b[0m \u001b[0mnb\u001b[0m\u001b[1;33m,\u001b[0m \u001b[0mdnb\u001b[0m \u001b[1;32min\u001b[0m \u001b[0mzip\u001b[0m\u001b[1;33m(\u001b[0m\u001b[0mnabla_b\u001b[0m\u001b[1;33m,\u001b[0m \u001b[0mdelta_nabla_b\u001b[0m\u001b[1;33m)\u001b[0m\u001b[1;33m]\u001b[0m\u001b[1;33m\u001b[0m\u001b[1;33m\u001b[0m\u001b[0m\n\u001b[0;32m     41\u001b[0m             \u001b[0mnabla_w\u001b[0m \u001b[1;33m=\u001b[0m \u001b[1;33m[\u001b[0m\u001b[0mnw\u001b[0m\u001b[1;33m+\u001b[0m\u001b[0mdnw\u001b[0m \u001b[1;32mfor\u001b[0m \u001b[0mnw\u001b[0m\u001b[1;33m,\u001b[0m \u001b[0mdnw\u001b[0m \u001b[1;32min\u001b[0m \u001b[0mzip\u001b[0m\u001b[1;33m(\u001b[0m\u001b[0mnabla_w\u001b[0m\u001b[1;33m,\u001b[0m \u001b[0mdelta_nabla_w\u001b[0m\u001b[1;33m)\u001b[0m\u001b[1;33m]\u001b[0m\u001b[1;33m\u001b[0m\u001b[1;33m\u001b[0m\u001b[0m\n",
      "\u001b[1;32m<ipython-input-3-995c5e00e1bd>\u001b[0m in \u001b[0;36mbackprop\u001b[1;34m(self, x, y)\u001b[0m\n\u001b[0;32m     74\u001b[0m             \u001b[0mdelta\u001b[0m \u001b[1;33m=\u001b[0m \u001b[0mnp\u001b[0m\u001b[1;33m.\u001b[0m\u001b[0mdot\u001b[0m\u001b[1;33m(\u001b[0m\u001b[0mself\u001b[0m\u001b[1;33m.\u001b[0m\u001b[0mweights\u001b[0m\u001b[1;33m[\u001b[0m\u001b[1;33m-\u001b[0m\u001b[0ml\u001b[0m\u001b[1;33m+\u001b[0m\u001b[1;36m1\u001b[0m\u001b[1;33m]\u001b[0m\u001b[1;33m.\u001b[0m\u001b[0mtranspose\u001b[0m\u001b[1;33m(\u001b[0m\u001b[1;33m)\u001b[0m\u001b[1;33m,\u001b[0m \u001b[0mdelta\u001b[0m\u001b[1;33m)\u001b[0m \u001b[1;33m*\u001b[0m \u001b[0msp\u001b[0m\u001b[1;33m\u001b[0m\u001b[1;33m\u001b[0m\u001b[0m\n\u001b[0;32m     75\u001b[0m             \u001b[0mnabla_b\u001b[0m\u001b[1;33m[\u001b[0m\u001b[1;33m-\u001b[0m\u001b[0ml\u001b[0m\u001b[1;33m]\u001b[0m \u001b[1;33m=\u001b[0m \u001b[0mdelta\u001b[0m\u001b[1;33m\u001b[0m\u001b[1;33m\u001b[0m\u001b[0m\n\u001b[1;32m---> 76\u001b[1;33m             \u001b[0mnabla_w\u001b[0m\u001b[1;33m[\u001b[0m\u001b[1;33m-\u001b[0m\u001b[0ml\u001b[0m\u001b[1;33m]\u001b[0m \u001b[1;33m=\u001b[0m \u001b[0mnp\u001b[0m\u001b[1;33m.\u001b[0m\u001b[0mdot\u001b[0m\u001b[1;33m(\u001b[0m\u001b[0mdelta\u001b[0m\u001b[1;33m,\u001b[0m \u001b[0mactivations\u001b[0m\u001b[1;33m[\u001b[0m\u001b[1;33m-\u001b[0m\u001b[0ml\u001b[0m\u001b[1;33m-\u001b[0m\u001b[1;36m1\u001b[0m\u001b[1;33m]\u001b[0m\u001b[1;33m.\u001b[0m\u001b[0mtranspose\u001b[0m\u001b[1;33m(\u001b[0m\u001b[1;33m)\u001b[0m\u001b[1;33m)\u001b[0m\u001b[1;33m\u001b[0m\u001b[1;33m\u001b[0m\u001b[0m\n\u001b[0m\u001b[0;32m     77\u001b[0m         \u001b[1;32mreturn\u001b[0m \u001b[1;33m(\u001b[0m\u001b[0mnabla_b\u001b[0m\u001b[1;33m,\u001b[0m \u001b[0mnabla_w\u001b[0m\u001b[1;33m)\u001b[0m\u001b[1;33m\u001b[0m\u001b[1;33m\u001b[0m\u001b[0m\n\u001b[0;32m     78\u001b[0m \u001b[1;33m\u001b[0m\u001b[0m\n",
      "\u001b[1;32m<__array_function__ internals>\u001b[0m in \u001b[0;36mdot\u001b[1;34m(*args, **kwargs)\u001b[0m\n",
      "\u001b[1;31mValueError\u001b[0m: shapes (20,20) and (4,) not aligned: 20 (dim 1) != 4 (dim 0)"
     ]
    }
   ],
   "metadata": {}
  },
  {
   "cell_type": "markdown",
   "source": [
    "# Resultado do treinamento"
   ],
   "metadata": {}
  },
  {
   "cell_type": "code",
   "execution_count": null,
   "source": [
    "print(\"Valor ótimo de minização: \", custo)\r\n",
    "print(\"Pesos otimizados da camada oculta:\\n\", posicao[:80])\r\n",
    "print(\"Bias otimizados da camada oculta:\\n\", posicao[80:100])\r\n",
    "print(\"Pesos otimizados da camada de saída:\\n\", posicao[100:160])\r\n",
    "print(\"Bias otimizados da camada de saída:\\n\", posicao[160:])"
   ],
   "outputs": [],
   "metadata": {}
  },
  {
   "cell_type": "markdown",
   "source": [
    "# Avaliação do treinamento e do teste"
   ],
   "metadata": {}
  },
  {
   "cell_type": "code",
   "execution_count": null,
   "source": [
    "# Acurácia do treino\r\n",
    "print(\"Acurácia de treino: \", (np.mean(avaliacao(posicao) == y_desejado) * 100))"
   ],
   "outputs": [],
   "metadata": {}
  },
  {
   "cell_type": "markdown",
   "source": [
    "# Execução e avaliação do teste"
   ],
   "metadata": {}
  },
  {
   "cell_type": "code",
   "execution_count": null,
   "source": [
    "# Acurácia do teste\r\n",
    "print(\"Acurácia de teste: \", (np.mean(avaliacao(posicao) == y_desejado) * 100))"
   ],
   "outputs": [],
   "metadata": {}
  }
 ],
 "metadata": {
  "orig_nbformat": 4,
  "language_info": {
   "name": "python",
   "version": "3.8.8",
   "mimetype": "text/x-python",
   "codemirror_mode": {
    "name": "ipython",
    "version": 3
   },
   "pygments_lexer": "ipython3",
   "nbconvert_exporter": "python",
   "file_extension": ".py"
  },
  "kernelspec": {
   "name": "python3",
   "display_name": "Python 3.8.8 64-bit ('base': conda)"
  },
  "interpreter": {
   "hash": "4c4c8cfd539e0411d3cc5c1e72b05a7dbcf36342c56df37f381a6ef1a534e6cb"
  }
 },
 "nbformat": 4,
 "nbformat_minor": 2
}