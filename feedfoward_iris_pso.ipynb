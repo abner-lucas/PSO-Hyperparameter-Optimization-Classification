{
 "cells": [
  {
   "cell_type": "markdown",
   "source": [
    "# Dataset"
   ],
   "metadata": {}
  },
  {
   "cell_type": "code",
   "execution_count": 22,
   "source": [
    "from sklearn.datasets import load_iris\r\n",
    "\r\n",
    "# Carregando dataset de iris\r\n",
    "dataset = load_iris()\r\n",
    "\r\n",
    "# Guardando dados de entrada e as saídas desejadas para cada amostra de treinamento\r\n",
    "amostras = dataset.data[:130]\r\n",
    "y_desejado = dataset.target[:130]"
   ],
   "outputs": [],
   "metadata": {}
  },
  {
   "cell_type": "markdown",
   "source": [
    "# Parâmetros da rede neural"
   ],
   "metadata": {}
  },
  {
   "cell_type": "code",
   "execution_count": 23,
   "source": [
    "import numpy as np\r\n",
    "import matplotlib.pyplot as plt\r\n",
    "import pyswarms as ps\r\n",
    "\r\n",
    "# Arquiteura da rede neural\r\n",
    "n_entrada = 4                # número de entradas na camada de entrada\r\n",
    "n_oculta = 20                # número de neurônios na camada oculta\r\n",
    "n_saida = 3                  # número de classes na camada de saídas\r\n",
    "n_amostras = len(amostras)   # número de amostras"
   ],
   "outputs": [],
   "metadata": {}
  },
  {
   "cell_type": "markdown",
   "source": [
    "# Ativação, propagação e compração dos resultados"
   ],
   "metadata": {}
  },
  {
   "cell_type": "code",
   "execution_count": 24,
   "source": [
    "def ativacao1(p):\r\n",
    "    # Construindo vetores iniciais de pesos e bias a partir da lista de parâmetros\r\n",
    "    W1 = p[0:80].reshape((n_entrada,n_oculta))      # pesos oculta-entrada\r\n",
    "    b1 = p[80:100].reshape((n_oculta,))             # bias oculta-entrada\r\n",
    "    W2 = p[100:160].reshape((n_oculta,n_saida))     # pesos saída-oculta\r\n",
    "    b2 = p[160:163].reshape((n_saida,))             # bias saída-oculta\r\n",
    "\r\n",
    "    # Ativando camada oculta pela função de ativação sigmoid\r\n",
    "    z1 = amostras.dot(W1) + b1      # nets da camada oculta\r\n",
    "    a1 = np.tanh(z1)                # ativação da camada oculta\r\n",
    "    y_obtido = a1.dot(W2) + b2      # nets da camada de saída\r\n",
    "    return y_obtido                 # saídas da rede neural\r\n",
    "\r\n",
    "# Propagação direta da rede neural\r\n",
    "def forward(particula):\r\n",
    "    y_obtido = ativacao1(particula)\r\n",
    "\r\n",
    "    # Ativação da camada de saída pela função de softmax\r\n",
    "    exp_scores = np.exp(y_obtido)\r\n",
    "    probs = exp_scores / np.sum(exp_scores, axis=1, keepdims=True)\r\n",
    "\r\n",
    "    # Calcula o erro da saída de rede\r\n",
    "    corect_logprobs = -np.log(probs[range(n_amostras), y_desejado]) # erro por saída\r\n",
    "    erro = np.sum(corect_logprobs) / n_amostras                     # erro médio total\r\n",
    "\r\n",
    "    return erro\r\n",
    "\r\n",
    "# Calculando a acurácia\r\n",
    "def avaliacao(posicao):\r\n",
    "    y_obtido = ativacao1(posicao)\r\n",
    "    resultado = np.argmax(y_obtido, axis=1)\r\n",
    "    return resultado"
   ],
   "outputs": [],
   "metadata": {}
  },
  {
   "cell_type": "markdown",
   "source": [
    "# Execução do PSO para otimização"
   ],
   "metadata": {}
  },
  {
   "cell_type": "code",
   "execution_count": 25,
   "source": [
    "import pso\r\n",
    "\r\n",
    "def funcao_obj(enxame):\r\n",
    "    n_particulas = enxame.shape[0]\r\n",
    "    enxame = [forward(enxame[i]) for i in range(n_particulas)]\r\n",
    "    return np.array(enxame)\r\n",
    "\r\n",
    "# Definindo fator de aceleração 1 e 2 e peso de inércia para o PSO\r\n",
    "parametrosPSO = {'c1': 0.5, 'c2': 0.3, 'w':0.9}\r\n",
    "dimensoes = (n_entrada * n_oculta) + (n_oculta * n_saida) + n_oculta + n_saida\r\n",
    "n_particulas = 100\r\n",
    "\r\n",
    "# Iniciando PSO\r\n",
    "otimizacao = ps.single.GlobalBestPSO(n_particles=n_particulas, dimensions=dimensoes, options=parametrosPSO)\r\n",
    "\r\n",
    "# Realizando treinamento/otimização\r\n",
    "custo, posicao = otimizacao.optimize(funcao_obj, iters=100, verbose=False)\r\n",
    "\r\n",
    "'''otimizacao = pso.Pso(100, 100)\r\n",
    "lb = np.array([-1] * dimensoes)\r\n",
    "ub = np.array([1] * dimensoes)\r\n",
    "posicao, custo = otimizacao.run(avaliacao, lb, ub)'''\r\n"
   ],
   "outputs": [
    {
     "output_type": "execute_result",
     "data": {
      "text/plain": [
       "'otimizacao = pso.Pso(100, 100)\\nlb = np.array([-1] * dimensoes)\\nub = np.array([1] * dimensoes)\\nposicao, custo = otimizacao.run(avaliacao, lb, ub)'"
      ]
     },
     "metadata": {},
     "execution_count": 25
    }
   ],
   "metadata": {}
  },
  {
   "cell_type": "markdown",
   "source": [
    "# Resultado do treinamento"
   ],
   "metadata": {}
  },
  {
   "cell_type": "code",
   "execution_count": 26,
   "source": [
    "print(\"Valor ótimo de minização: \", custo)\r\n",
    "print(\"Pesos otimizados da camada oculta:\\n\", posicao[:80])\r\n",
    "print(\"Bias otimizados da camada oculta:\\n\", posicao[80:100])\r\n",
    "print(\"Pesos otimizados da camada de saída:\\n\", posicao[100:160])\r\n",
    "print(\"Bias otimizados da camada de saída:\\n\", posicao[160:])"
   ],
   "outputs": [
    {
     "output_type": "stream",
     "name": "stdout",
     "text": [
      "Valor ótimo de minização:  0.07570331835663617\n",
      "Pesos otimizados da camada oculta:\n",
      " [ 0.44478618 -1.3858267   1.8488291   0.33190313  1.10599251 -0.04388107\n",
      "  0.50994891  3.8343367   0.75186585 -0.74486942  0.38504302  1.30185415\n",
      " -2.35067362  0.12810108 -0.60181683  0.746093    1.71235643  2.53219746\n",
      " -1.16565544 -1.70832813 -0.07769204  0.69811644 -0.49545361 -0.90762233\n",
      "  1.21788242  0.77492863 -0.4384671   0.17080024  1.12286987 -2.27169875\n",
      "  0.7216708   1.74292733  0.26570319  0.12406611 -0.40649683  1.08586408\n",
      "  0.7906285  -4.02562785  0.41811955  1.83592224  0.22592007 -1.5387133\n",
      "  0.7518746   1.0744207  -2.16067381  0.02571934  0.95890122  1.23602889\n",
      "  1.24124227  1.34448362  0.53579251 -0.5250248  -1.05787644  0.64620142\n",
      "  0.23662815 -2.21265728  0.01866982 -0.10675471 -0.09516524  1.77001776\n",
      " -0.73809639  0.38054598  1.1110047   1.3170216  -0.48603002 -0.4729372\n",
      "  0.39345552  1.15650984 -1.93615832  2.71429933  1.75636613 -1.81680224\n",
      "  0.1026108   1.18177642  1.35130348 -0.031744    1.36473019 -0.60384188\n",
      "  0.06936223  0.42852444]\n",
      "Bias otimizados da camada oculta:\n",
      " [ 0.81288897  0.68266805  0.87332176  1.53571737 -1.73820231  2.26500982\n",
      "  0.07359959  1.33120324  2.91879152  0.57074129  0.58262605 -0.54790587\n",
      " -0.51724076 -0.9724028   1.19086401 -0.35993752  1.90243522  0.2353917\n",
      " -0.88499931  0.17407545]\n",
      "Pesos otimizados da camada de saída:\n",
      " [-2.18189457e-01  6.73690278e-01  5.08875479e-01 -6.31600786e-01\n",
      "  5.90228859e-01  7.90545239e-01  1.54776586e+00  8.24956624e-01\n",
      " -1.20354140e+00 -5.18846362e-01 -1.82906108e-01  1.54964521e+00\n",
      "  8.79048517e-01 -7.76955388e-01 -3.25150452e+00  7.17832063e-01\n",
      "  5.10523351e-01  6.13971658e-01 -2.22345228e-02 -2.71350898e+00\n",
      "  9.94485501e-02  6.21328001e-01 -4.57162281e-01  4.80759066e-01\n",
      " -2.01574748e+00 -1.69965812e+00  3.85226132e-01 -8.48527572e-01\n",
      " -2.14998048e+00  3.77822396e+00 -2.25201078e-03 -9.45921340e-01\n",
      " -2.16547959e-01  7.09400307e-01  4.21126396e+00  2.65703879e-01\n",
      " -3.32294034e-01 -2.52030373e-01 -2.42338800e-01  4.36954469e-01\n",
      "  1.71354159e+00 -2.69035069e-01 -1.47989807e+00 -9.42962335e-01\n",
      "  9.65031008e-01  2.29338733e+00 -6.69062975e-01 -2.43068928e-01\n",
      " -2.90160392e-01 -8.18917742e-01  1.41418000e+00 -2.83505527e-02\n",
      "  2.29565351e+00  5.53269774e-01  7.10799458e-01  1.24455112e+00\n",
      "  3.21868195e+00  1.27148735e-01  6.50906535e-01 -1.64379686e+00]\n",
      "Bias otimizados da camada de saída:\n",
      " [ 0.04305051  0.25905663 -0.8373072 ]\n"
     ]
    }
   ],
   "metadata": {}
  },
  {
   "cell_type": "markdown",
   "source": [
    "# Avaliação do treinamento e do teste"
   ],
   "metadata": {}
  },
  {
   "cell_type": "code",
   "execution_count": 27,
   "source": [
    "# Acurácia do treino\r\n",
    "print(\"Acurácia de treino: \", (np.mean(avaliacao(posicao) == y_desejado) * 100))"
   ],
   "outputs": [
    {
     "output_type": "stream",
     "name": "stdout",
     "text": [
      "Acurácia de treino:  96.92307692307692\n"
     ]
    }
   ],
   "metadata": {}
  },
  {
   "cell_type": "markdown",
   "source": [
    "# Execução e avaliação do teste"
   ],
   "metadata": {}
  },
  {
   "cell_type": "code",
   "execution_count": 28,
   "source": [
    "# Guardando dados de entrada e as saídas desejadas para cada amostra de teste\r\n",
    "amostras = dataset.data[130:]\r\n",
    "y_desejado = dataset.target[130:]\r\n",
    "\r\n",
    "# Acurácia do teste\r\n",
    "print(\"Acurácia de teste: \", (np.mean(avaliacao(posicao) == y_desejado) * 100))"
   ],
   "outputs": [
    {
     "output_type": "stream",
     "name": "stdout",
     "text": [
      "Acurácia de teste:  90.0\n"
     ]
    }
   ],
   "metadata": {}
  }
 ],
 "metadata": {
  "orig_nbformat": 4,
  "language_info": {
   "name": "python",
   "version": "3.8.8",
   "mimetype": "text/x-python",
   "codemirror_mode": {
    "name": "ipython",
    "version": 3
   },
   "pygments_lexer": "ipython3",
   "nbconvert_exporter": "python",
   "file_extension": ".py"
  },
  "kernelspec": {
   "name": "python3",
   "display_name": "Python 3.8.8 64-bit ('base': conda)"
  },
  "interpreter": {
   "hash": "4c4c8cfd539e0411d3cc5c1e72b05a7dbcf36342c56df37f381a6ef1a534e6cb"
  }
 },
 "nbformat": 4,
 "nbformat_minor": 2
}