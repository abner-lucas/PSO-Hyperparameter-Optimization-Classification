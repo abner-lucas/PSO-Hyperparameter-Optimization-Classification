{
 "cells": [
  {
   "cell_type": "markdown",
   "source": [
    "# **Rede neural profunda para classificação na base de dados Iris com otimização de hiperparâmetros usando PSO**"
   ],
   "metadata": {}
  },
  {
   "cell_type": "markdown",
   "source": [
    "# Introdução\r\n",
    "\r\n",
    "<p align='justify' style=\"font-size:160%;\">Neste projeto será demostrado algumas análises exploratórias ao longo do conjunto de dados Iris a partir da execução de alguns casos de teste como uma solução ao problema de otimização dos hiperparâmetros peso e limiar das camadas de uma rede neural profunda. Como ferramentas foram utilizados o Jupyter Notebook que é uma aplicação de código aberto para escrita de código de forma dinâmica com execução iterativa, onde se fez uso da linguagem de programação Phyton para formulação das funções que descreveram os cenários de criação e execução de uma rede perceptron multicamada com os resultados de treinamento e execução de previsões de classificação em linguagem de interpretação HTML (HyperText Markup Language). A base de dados Iris é um dataset frequentemente usado em mineração de dados, classificação e em testes de redes neurais. O dataset contém dados sobre três espécies de flores Iris (Iris Setosa, Iris Virginica e Iris Versicolor) e para cada uma das espécies se têm dados de quatro de suas características (comprimento e largura das sépalas e comprimento e largura das pétalas), ao todo se têm 150 amostras sendo divididas por igual para as três espécies. Nos mostrando por meio deste estudo experimental, apoiado pelos testes estatísticos, que o PSO é uma técnica eficaz para automatizar a seleção de alguns hiperparâmetros de uma rede neural profunda.</p>"
   ],
   "metadata": {}
  },
  {
   "cell_type": "markdown",
   "source": [
    "# Dataset\r\n",
    "\r\n",
    "<p align='justify' style=\"font-size:160%;\">Para este projeto o dataset foi carregado através da biblioteca Scikit-learn que é uma biblioteca de aprendizado de máquina de código aberto que oferece suporte ao aprendizado supervisionado e não supervisionado, além de fornecer ferramentas para ajuste de modelo, pré-processamento de dados, entre outras.</p>"
   ],
   "metadata": {}
  },
  {
   "cell_type": "code",
   "execution_count": 2,
   "source": [
    "#Importando dataset\r\n",
    "from sklearn.datasets import load_iris\r\n",
    "\r\n",
    "# Carregando dataset de iris\r\n",
    "dataset = load_iris()\r\n",
    "\r\n",
    "# Guardando dados de entrada e as saídas desejadas para cada amostra de treinamento\r\n",
    "amostras = dataset.data\r\n",
    "y_desejado = dataset.target"
   ],
   "outputs": [],
   "metadata": {}
  },
  {
   "cell_type": "markdown",
   "source": [
    "<p align='justify' style=\"font-size:160%;\">Após importar a biblioteca com o conjunto de dados que será utilizado as instâncias com os dados foram carregados e gravados em uma variável e depois os valores de entrada (comprimento e largura das sépalas e das pétalas dados em centímetros) das amostras foram separados em uma matriz (150x4) e os valores de classificação (número da classe ao qual pertence aquela a amostra, 0 para Setosa, 1 para Versicolor e 2 Virginica) em outra matriz (150x1), a seguir temos a apresentação de duas amostras de cada espécie.</p>"
   ],
   "metadata": {}
  },
  {
   "cell_type": "code",
   "execution_count": 3,
   "source": [
    "import pandas as pd\r\n",
    "\r\n",
    "#Guardando os respectivos registros do vetor de amostras em dataframe\r\n",
    "df1 = pd.DataFrame(amostras[0:2], columns=[dataset.feature_names], index=['1', '2'])\r\n",
    "df1['target'] = y_desejado[0:2]\r\n",
    "df2 = pd.DataFrame(amostras[50:52], columns=[dataset.feature_names], index=['51', '52'])\r\n",
    "df2['target'] = y_desejado[50:52]\r\n",
    "df3 = pd.DataFrame(amostras[100:102], columns=[dataset.feature_names], index=['101', '102'])\r\n",
    "df3['target'] = y_desejado[100:102]\r\n",
    "df = pd.concat([df1, df2, df3])\r\n",
    "display(df)"
   ],
   "outputs": [
    {
     "output_type": "display_data",
     "data": {
      "text/html": [
       "<div>\n",
       "<style scoped>\n",
       "    .dataframe tbody tr th:only-of-type {\n",
       "        vertical-align: middle;\n",
       "    }\n",
       "\n",
       "    .dataframe tbody tr th {\n",
       "        vertical-align: top;\n",
       "    }\n",
       "\n",
       "    .dataframe thead tr th {\n",
       "        text-align: left;\n",
       "    }\n",
       "</style>\n",
       "<table border=\"1\" class=\"dataframe\">\n",
       "  <thead>\n",
       "    <tr>\n",
       "      <th></th>\n",
       "      <th>sepal length (cm)</th>\n",
       "      <th>sepal width (cm)</th>\n",
       "      <th>petal length (cm)</th>\n",
       "      <th>petal width (cm)</th>\n",
       "      <th>target</th>\n",
       "    </tr>\n",
       "  </thead>\n",
       "  <tbody>\n",
       "    <tr>\n",
       "      <th>1</th>\n",
       "      <td>5.1</td>\n",
       "      <td>3.5</td>\n",
       "      <td>1.4</td>\n",
       "      <td>0.2</td>\n",
       "      <td>0</td>\n",
       "    </tr>\n",
       "    <tr>\n",
       "      <th>2</th>\n",
       "      <td>4.9</td>\n",
       "      <td>3.0</td>\n",
       "      <td>1.4</td>\n",
       "      <td>0.2</td>\n",
       "      <td>0</td>\n",
       "    </tr>\n",
       "    <tr>\n",
       "      <th>51</th>\n",
       "      <td>7.0</td>\n",
       "      <td>3.2</td>\n",
       "      <td>4.7</td>\n",
       "      <td>1.4</td>\n",
       "      <td>1</td>\n",
       "    </tr>\n",
       "    <tr>\n",
       "      <th>52</th>\n",
       "      <td>6.4</td>\n",
       "      <td>3.2</td>\n",
       "      <td>4.5</td>\n",
       "      <td>1.5</td>\n",
       "      <td>1</td>\n",
       "    </tr>\n",
       "    <tr>\n",
       "      <th>101</th>\n",
       "      <td>6.3</td>\n",
       "      <td>3.3</td>\n",
       "      <td>6.0</td>\n",
       "      <td>2.5</td>\n",
       "      <td>2</td>\n",
       "    </tr>\n",
       "    <tr>\n",
       "      <th>102</th>\n",
       "      <td>5.8</td>\n",
       "      <td>2.7</td>\n",
       "      <td>5.1</td>\n",
       "      <td>1.9</td>\n",
       "      <td>2</td>\n",
       "    </tr>\n",
       "  </tbody>\n",
       "</table>\n",
       "</div>"
      ],
      "text/plain": [
       "    sepal length (cm) sepal width (cm) petal length (cm) petal width (cm)  \\\n",
       "1                 5.1              3.5               1.4              0.2   \n",
       "2                 4.9              3.0               1.4              0.2   \n",
       "51                7.0              3.2               4.7              1.4   \n",
       "52                6.4              3.2               4.5              1.5   \n",
       "101               6.3              3.3               6.0              2.5   \n",
       "102               5.8              2.7               5.1              1.9   \n",
       "\n",
       "    target  \n",
       "1        0  \n",
       "2        0  \n",
       "51       1  \n",
       "52       1  \n",
       "101      2  \n",
       "102      2  "
      ]
     },
     "metadata": {}
    }
   ],
   "metadata": {}
  },
  {
   "cell_type": "markdown",
   "source": [
    "<p align='justify' style=\"font-size:160%;\">Considerando as classes de espécies podemos através de um diagrama do tipo caixa visualizar a estimativa aproximada da distribuição dos valores das amostras do dataset.\r\n",
    "Com o boxplot podemos observar que, apesar das amostras da espécie Iris Setosa apresentarem uma baixa variabilidade em seus dados em realação às demais espécies são as que mais possuem dados que lavantam suspeitas sobre a real classificação das amostras (outlier), e que em casos como os da espécie Iris Virginica estas possuem uma maior variabilidade, trazendo uma certa imprevisibilidade para projetos de classsificação. Não menos importante, é facil notar, também, que as flores da espécie Virginica são as quais possuem um tamanho maior em relação as da Sentosa e Versicolor.<p>"
   ],
   "metadata": {}
  },
  {
   "cell_type": "code",
   "execution_count": 4,
   "source": [
    "import matplotlib.pyplot as plt\r\n",
    "\r\n",
    "# Transformando as amostras em dataframe\r\n",
    "df1 = pd.DataFrame(amostras[0:50], columns=[dataset.feature_names])\r\n",
    "df2 = pd.DataFrame(amostras[50:100], columns=[dataset.feature_names])\r\n",
    "df3 = pd.DataFrame(amostras[100:150], columns=[dataset.feature_names])\r\n",
    "\r\n",
    "# Visualizando estatística das features por espécie com boxplot\r\n",
    "red_circle = dict(markerfacecolor='red', marker='o')\r\n",
    "mean_shape = dict (markerfacecolor = 'green', marker = 'D', markeredgecolor = 'green')\r\n",
    "fig, axs = plt.subplots(1, 3, figsize=(20,10))\r\n",
    "for i, ax in enumerate(axs.flat):\r\n",
    "    if i == 0:\r\n",
    "        ax.boxplot(df1, labels=['sepal length','sepal width','petal length','petal width'], flierprops=red_circle, showmeans = True, meanprops=mean_shape)\r\n",
    "        ax.xaxis.set_tick_params(rotation=90)\r\n",
    "        ax.set_title('Setosa', fontsize=20)\r\n",
    "        ax.tick_params(axis='y', labelsize=16)  \r\n",
    "    elif i == 1:\r\n",
    "        ax.boxplot(df2, labels=['sepal length','sepal width','petal length','petal width'], flierprops=red_circle, showmeans = True, meanprops=mean_shape)\r\n",
    "        ax.xaxis.set_tick_params(rotation=90)\r\n",
    "        ax.set_title('Versicolor', fontsize=20)\r\n",
    "        ax.tick_params(axis='y', labelsize=16)\r\n",
    "    else:\r\n",
    "        ax.boxplot(df3, labels=['sepal length','sepal width','petal length','petal width'], flierprops=red_circle, showmeans = True, meanprops=mean_shape)\r\n",
    "        ax.xaxis.set_tick_params(rotation=90)\r\n",
    "        ax.set_title('Virginica', fontsize=20)\r\n",
    "        ax.tick_params(axis='y', labelsize=16)"
   ],
   "outputs": [
    {
     "output_type": "display_data",
     "data": {
      "image/png": "[encoded data removed]",
      "text/plain": [
       "<Figure size 1440x720 with 3 Axes>"
      ]
     },
     "metadata": {
      "needs_background": "light"
     }
    }
   ],
   "metadata": {}
  },
  {
   "cell_type": "markdown",
   "source": [
    "# Rede neural\r\n",
    "<p align='justify' style=\"font-size:160%;\">\r\n",
    "O uso de redes neurais profundas para classificação de dados está cada vez mais crescendo no mundo da ciência de dados, e atualmente encontramos modelos para previsão que alcançam um nível de sucesso excelente nos treinamentos e testes. No entanto, esses modelos são dependentes do ajuste de alguns valores de parâmetros (hiperparâmetros) para controlar o processo de treinamento do modelo, dependendo algumas vezes de especialistas para determinar tais valores ao longo do processo que resularão em modelo que trará previsões mais acertivas.\r\n",
    "Neste estudo uma rede percepetron de três camadas (uma camada de entrada, uma camada oculta e uma camada de saída) foi criada, onde na camada de entrada temos a possibilidade de se trabalhar com 4 features, pelo fato do dataset apresentar quatro características das espécies de Iris, além de uma camada oculta com 20 neurônios (escolha aleatória), com 3 saídas, para inidicar as 3 espécies de flores.</p>"
   ],
   "metadata": {}
  },
  {
   "cell_type": "code",
   "execution_count": 9,
   "source": [
    "# Definição da arquiteura da rede neural\r\n",
    "n_entrada = 4                # número de entradas na camada de entrada\r\n",
    "n_oculta = 20                # número de neurônios na camada oculta\r\n",
    "n_saida = 3                  # número de classes na camada de saídas\r\n",
    "n_amostras = len(amostras)   # número de amostras"
   ],
   "outputs": [],
   "metadata": {}
  },
  {
   "cell_type": "markdown",
   "source": [
    "<p align='justify' style=\"font-size:160%;\">\r\n",
    "Como passo de criação, primeiramente foi criado um método para propagação direta (feedforward) de cada uma das partículas do PSO na rede, que serão inicializadas com valores aleatórios pequenos uniformemente distribuídos e evoluídos com a utilização do módulo \"pyswarms.single.global_best\", que a partir de um conjunto de soluções candidatas (fitness) procura encontrar a melhor solução atualizando a velocidade e a posição de partículas com movimentações durante a execução da várias épocas influenciadas pela partícula de melhor desempenho em um espaço de busca. Seguidos criação do método de ativação dos neurônios das camadas oculta e de saída usando a função sigmoid para calcular os valores (nets) de cada neurônio, finalizando a saída com uma probalidade preditiva de classificação (erro) através da função softmax. Repetindo o processo após os ajustes das particulas pelo PSO que recebe a execução desses processos da rede neural como função objetivo.\r\n",
    "</p>"
   ],
   "metadata": {}
  },
  {
   "cell_type": "code",
   "execution_count": 5,
   "source": [
    "import numpy as np\r\n",
    "\r\n",
    "def ativacao(p):\r\n",
    "    # Estrutura dos vetores de pesos e bias a partir da lista de parâmetros\r\n",
    "    W1 = p[0:80].reshape((n_entrada,n_oculta))      # pesos oculta-entrada\r\n",
    "    b1 = p[80:100].reshape((n_oculta,))             # bias oculta-entrada\r\n",
    "    W2 = p[100:160].reshape((n_oculta,n_saida))     # pesos saída-oculta\r\n",
    "    b2 = p[160:163].reshape((n_saida,))             # bias saída-oculta\r\n",
    "\r\n",
    "    # Ativando camada oculta pela função de ativação sigmoid\r\n",
    "    z1 = amostras.dot(W1) + b1      # nets da camada oculta\r\n",
    "    a1 = np.tanh(z1)                # ativação da camada oculta\r\n",
    "    y_obtido = a1.dot(W2) + b2      # nets da camada de saída\r\n",
    "    return y_obtido                 # saídas da rede neural\r\n",
    "\r\n",
    "# Propagação direta da rede neural\r\n",
    "def propagacao(particula):\r\n",
    "    y_obtido = ativacao(particula)\r\n",
    "\r\n",
    "    # Probabilidade preditiva de classificação pela função softmax\r\n",
    "    exp_scores = np.exp(y_obtido)\r\n",
    "    probs = exp_scores / np.sum(exp_scores, axis=1, keepdims=True)\r\n",
    "\r\n",
    "    # Calcula o erro da saída de rede\r\n",
    "    corect_logprobs = -np.log(probs[range(n_amostras), y_desejado]) # erro por saída\r\n",
    "    erro = np.sum(corect_logprobs) / n_amostras                     # erro médio total\r\n",
    "\r\n",
    "    return erro\r\n",
    "\r\n",
    "def funcao_obj(enxame):\r\n",
    "    n_particulas = enxame.shape[0]\r\n",
    "    enxame = [propagacao(enxame[i]) for i in range(n_particulas)]\r\n",
    "    return np.array(enxame)"
   ],
   "outputs": [],
   "metadata": {}
  },
  {
   "cell_type": "code",
   "execution_count": 4,
   "source": [
    "import pyswarms as ps\r\n",
    "\r\n",
    "# Definindo fator de aceleração 1 e 2 e peso de inércia para o PSO\r\n",
    "parametrosPSO = {'c1': 0.5, 'c2': 0.3, 'w':0.9}\r\n",
    "dimensoes = (n_entrada * n_oculta) + (n_oculta * n_saida) + n_oculta + n_saida\r\n",
    "n_particulas = 100\r\n",
    "\r\n",
    "# Iniciando PSO\r\n",
    "otimizacao = ps.single.GlobalBestPSO(n_particles=n_particulas, dimensions=dimensoes, options=parametrosPSO)\r\n",
    "\r\n",
    "# Realizando treinamento/otimização\r\n",
    "custo, posicao = otimizacao.optimize(funcao_obj, iters=1000, verbose=False)"
   ],
   "outputs": [],
   "metadata": {}
  },
  {
   "cell_type": "code",
   "execution_count": null,
   "source": [
    "# Calculando a acurácia\r\n",
    "def avaliacao(posicao):\r\n",
    "    y_obtido = ativacao(posicao)\r\n",
    "    resultado = np.argmax(y_obtido, axis=1)\r\n",
    "    return resultado"
   ],
   "outputs": [],
   "metadata": {}
  },
  {
   "cell_type": "markdown",
   "source": [
    "# Resultado do treinamento"
   ],
   "metadata": {}
  },
  {
   "cell_type": "code",
   "execution_count": 5,
   "source": [
    "print(\"Valor ótimo de minização: \", custo)\r\n",
    "print(\"Pesos otimizados da camada oculta:\\n\", posicao[:80])\r\n",
    "print(\"Bias otimizados da camada oculta:\\n\", posicao[80:100])\r\n",
    "print(\"Pesos otimizados da camada de saída:\\n\", posicao[100:160])\r\n",
    "print(\"Bias otimizados da camada de saída:\\n\", posicao[160:])"
   ],
   "outputs": [
    {
     "output_type": "stream",
     "name": "stdout",
     "text": [
      "Valor ótimo de minização:  0.00023724544633023484\n",
      "Pesos otimizados da camada oculta:\n",
      " [ 1.45907353  1.1921351   0.89154503  1.03765813 -0.82479544 -0.77148451\n",
      "  1.42544754  1.56380511 -1.45457078  0.22338136  0.91026312 -1.75123616\n",
      " -0.59340242  1.73791052  4.257714    1.47377241  0.95535156 -0.31947122\n",
      "  1.49960368 -1.22085904  0.46564033 -3.10475643 -0.48281301  2.35709015\n",
      " -0.37575626 -0.86994926  1.29075609 -0.91871195 -1.09453694  1.69849375\n",
      " -1.02874338 -1.43076525 -1.98436526 -3.91926216  0.31973664 -0.56898465\n",
      "  0.53808463  0.70756668  0.38862301  0.49300825  0.07168587  0.42674066\n",
      "  0.51635703 -3.1419513  -0.97211482 -1.36690246  0.91881042 -0.59847132\n",
      "  0.25704509 -1.96302628  0.65843132 -0.18420562  2.42287038  0.5353109\n",
      " -1.22591361  2.84039216 -3.83692799  1.24790098 -1.93347273  0.71714397\n",
      " -0.28800575  1.41340364  1.04720025 -0.17879224 -3.84239269  1.06488206\n",
      "  0.81767592  1.42301319  0.08406273 -1.15458943 -1.53956771 -6.15479647\n",
      "  3.0050031   0.62389869 -4.20336026 -2.56808475 -1.40000777  1.07842591\n",
      "  6.64163036 -0.56860838]\n",
      "Bias otimizados da camada oculta:\n",
      " [-0.2460373  -3.88458463  0.5629608   2.93291092  2.86813298  4.31452274\n",
      "  1.4949977  -5.53138904  1.60349411  2.27269222  0.79219315  1.36237618\n",
      " -7.75302663 -0.07196    -1.2835124   1.18719223  2.70719656  1.3874175\n",
      "  0.37835539 -0.43806129]\n",
      "Pesos otimizados da camada de saída:\n",
      " [ 4.47354193e-01  1.39286179e-01  2.20846199e+00  2.03425916e-01\n",
      " -3.06234782e-01  4.37550226e+00  7.64731666e-01  4.46578736e-01\n",
      " -1.28796550e+00  9.07727046e-01 -3.83558774e+01  7.75251616e-01\n",
      " -2.62518601e+00  1.44169379e+00  2.77111998e-01  1.43875804e+00\n",
      "  1.20856031e+00  2.46363820e-01 -4.79561835e+00  1.83686208e+00\n",
      " -3.25139800e+00 -8.85349366e-01  1.23484853e+01  1.02366210e+00\n",
      "  1.09612503e+00  2.69573560e+00  1.11292258e+00  2.01774060e+00\n",
      " -2.59844102e+00 -4.77599519e-01  6.01337385e-01  1.61058267e+00\n",
      "  1.85194208e+00 -1.39849448e+00 -5.08684921e-01  6.82820159e-01\n",
      " -4.38891039e+00 -5.89343334e+01  3.95411034e+00 -3.14232993e+00\n",
      "  7.58172031e-01  2.95860122e+00 -7.64725485e-01 -7.54405513e-01\n",
      "  6.23925636e-01  1.20921684e-01  4.53000567e-02 -2.40618917e+00\n",
      " -1.33814058e-01 -3.43072399e+00 -1.00065949e+00  1.44655694e+00\n",
      "  1.30834146e-01  2.17286636e+00  5.87457996e-01  3.67371013e-01\n",
      "  1.48436309e+00  8.93574168e-02 -1.59195556e+00  2.35442596e-01]\n",
      "Bias otimizados da camada de saída:\n",
      " [ 0.98990579 -4.10838876  1.14002672]\n"
     ]
    }
   ],
   "metadata": {}
  },
  {
   "cell_type": "markdown",
   "source": [
    "# Avaliação do treinamento e do teste"
   ],
   "metadata": {}
  },
  {
   "cell_type": "code",
   "execution_count": 6,
   "source": [
    "# Acurácia do treino\r\n",
    "print(\"Acurácia de treino: \", (np.mean(avaliacao(posicao) == y_desejado) * 100))"
   ],
   "outputs": [
    {
     "output_type": "stream",
     "name": "stdout",
     "text": [
      "Acurácia de treino:  100.0\n"
     ]
    }
   ],
   "metadata": {}
  },
  {
   "cell_type": "markdown",
   "source": [
    "# Execução e avaliação do teste"
   ],
   "metadata": {}
  },
  {
   "cell_type": "code",
   "execution_count": 7,
   "source": [
    "# Guardando dados de entrada e as saídas desejadas para cada amostra de teste\r\n",
    "amostras = dataset.data[130:]\r\n",
    "y_desejado = dataset.target[130:]\r\n",
    "\r\n",
    "# Acurácia do teste\r\n",
    "print(\"Acurácia de teste: \", (np.mean(avaliacao(posicao) == y_desejado) * 100))"
   ],
   "outputs": [
    {
     "output_type": "stream",
     "name": "stdout",
     "text": [
      "Acurácia de teste:  95.0\n"
     ]
    }
   ],
   "metadata": {}
  }
 ],
 "metadata": {
  "orig_nbformat": 4,
  "language_info": {
   "name": "python",
   "version": "3.8.8",
   "mimetype": "text/x-python",
   "codemirror_mode": {
    "name": "ipython",
    "version": 3
   },
   "pygments_lexer": "ipython3",
   "nbconvert_exporter": "python",
   "file_extension": ".py"
  },
  "kernelspec": {
   "name": "python3",
   "display_name": "Python 3.8.8 64-bit ('base': conda)"
  },
  "interpreter": {
   "hash": "4c4c8cfd539e0411d3cc5c1e72b05a7dbcf36342c56df37f381a6ef1a534e6cb"
  }
 },
 "nbformat": 4,
 "nbformat_minor": 2
}