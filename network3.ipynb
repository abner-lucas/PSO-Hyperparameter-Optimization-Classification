{
 "cells": [
  {
   "cell_type": "markdown",
   "source": [
    "# Rede Neural"
   ],
   "metadata": {}
  },
  {
   "cell_type": "code",
   "execution_count": 32,
   "source": [
    "# Imports\r\n",
    "import random\r\n",
    "import numpy as np\r\n",
    "import sgd"
   ],
   "outputs": [],
   "metadata": {}
  },
  {
   "cell_type": "markdown",
   "source": [
    "## Classe Network"
   ],
   "metadata": {}
  },
  {
   "cell_type": "code",
   "execution_count": 33,
   "source": [
    "class Network(object):\r\n",
    "\r\n",
    "    def __init__(self, sizes):\r\n",
    "        self.num_layers = len(sizes)   # número de camadas da rede\r\n",
    "        self.sizes = sizes             # lista com o número de neurônios em cada camada\r\n",
    "        \r\n",
    "        self.biases = [np.random.randn(y, 1) for y in sizes[1:]] # lista de listas de bias\r\n",
    "        self.weights = [np.random.randn(y, x) for x, y in zip(sizes[:-1], sizes[1:])] # lista de listas de pesos\r\n",
    "        \r\n",
    "    def feedforward(self, a):\r\n",
    "        print(\"feedforward: \", a)\r\n",
    "        for b, w in zip(self.biases, self.weights):\r\n",
    "            a = sigmoid(np.dot(w, a)+b) # ativação da camada com função sigmoid\r\n",
    "        print(\"feedforward: \", a)\r\n",
    "        return a\r\n",
    "\r\n",
    "    def training(self, training_data, epochs, mini_batch_size, eta, test_data=None):\r\n",
    "        training_data = list(training_data)\r\n",
    "        n = len(training_data) # número de entradas de treinamento\r\n",
    "\r\n",
    "        if test_data:\r\n",
    "            test_data = list(test_data)\r\n",
    "            n_test = len(test_data) # número de entradas de teste\r\n",
    "\r\n",
    "        for j in range(epochs):\r\n",
    "            random.shuffle(training_data) # embaralha os dados de treinamento\r\n",
    "            mini_batches = [training_data[k:k+mini_batch_size] for k in range(0, n, mini_batch_size)] # divide os dados de treinamento em mini lotes\r\n",
    "            \r\n",
    "            for mini_batch in mini_batches:\r\n",
    "                # aplicação única de descida do gradiente para cada mini lote\r\n",
    "                self.update_sgd(mini_batch, eta)\r\n",
    "            \r\n",
    "            if test_data:\r\n",
    "                print(\"Epoch {} : {} / {}\".format(j,self.evaluate(test_data),n_test));\r\n",
    "            else:\r\n",
    "                print(\"Epoch {} finalizada\".format(j))\r\n",
    "\r\n",
    "    def update_sgd(self, mini_batch, eta):\r\n",
    "        nabla_b = [np.zeros(b.shape) for b in self.biases]\r\n",
    "        nabla_w = [np.zeros(w.shape) for w in self.weights]\r\n",
    "        \r\n",
    "        for x, y in mini_batch:\r\n",
    "            delta_nabla_b, delta_nabla_w = self.backprop(x, y) # calcula o gradiente\r\n",
    "            nabla_b = [nb+dnb for nb, dnb in zip(nabla_b, delta_nabla_b)]\r\n",
    "            nabla_w = [nw+dnw for nw, dnw in zip(nabla_w, delta_nabla_w)] \r\n",
    "        \r\n",
    "        self.weights = [w-(eta/len(mini_batch))*nw for w, nw in zip(self.weights, nabla_w)]\r\n",
    "        self.biases = [b-(eta/len(mini_batch))*nb for b, nb in zip(self.biases, nabla_b)]\r\n",
    "\r\n",
    "    def evaluate(self, test_data):\r\n",
    "        test_results = [(np.argmax(self.feedforward(x)), y) for (x, y) in test_data]\r\n",
    "        return sum(int(x == y) for (x, y) in test_results)\r\n",
    "\r\n",
    "#################################################################################\r\n",
    "    def backprop(self, x, y):\r\n",
    "        nabla_b = [np.zeros(b.shape) for b in self.biases]\r\n",
    "        nabla_w = [np.zeros(w.shape) for w in self.weights]\r\n",
    "        \r\n",
    "        # Feedforward\r\n",
    "        activation = x\r\n",
    "\r\n",
    "        # Lista para armazenar todas as ativações, camada por camada\r\n",
    "        activations = [x] \r\n",
    "\r\n",
    "        # Lista para armazenar todos os vetores z, camada por camada\r\n",
    "        zs = [] \r\n",
    "\r\n",
    "        for b, w in zip(self.biases, self.weights):\r\n",
    "            z = np.dot(w, activation)+b\r\n",
    "            zs.append(z)\r\n",
    "            activation = sigmoid(z)\r\n",
    "            activations.append(activation)\r\n",
    "        \r\n",
    "        # Backward pass\r\n",
    "        delta = self.cost_derivative(activations[-1], y) * sigmoid_prime(zs[-1])\r\n",
    "        nabla_b[-1] = delta\r\n",
    "        nabla_w[-1] = np.dot(delta, activations[-2].transpose())\r\n",
    "        \r\n",
    "        # Aqui, l = 1 significa a última camada de neurônios, l = 2 é a segunda e assim por diante. \r\n",
    "        for l in range(2, self.num_layers):\r\n",
    "            z = zs[-l]\r\n",
    "            sp = sigmoid_prime(z)\r\n",
    "            delta = np.dot(self.weights[-l+1].transpose(), delta) * sp\r\n",
    "            nabla_b[-l] = delta\r\n",
    "            nabla_w[-l] = np.dot(delta, activations[-l-1].transpose())\r\n",
    "        return (nabla_b, nabla_w)\r\n",
    "\r\n",
    "    def cost_derivative(self, output_activations, y):\r\n",
    "        \"\"\"Retorna o vetor das derivadas parciais.\"\"\"\r\n",
    "        return (output_activations-y)\r\n",
    "#############################################################################################"
   ],
   "outputs": [],
   "metadata": {}
  },
  {
   "cell_type": "code",
   "execution_count": null,
   "source": [
    "# Função de Ativação Sigmóide\r\n",
    "def sigmoid(z):\r\n",
    "    return 1.0/(1.0+np.exp(-z))\r\n",
    "\r\n",
    "# Função para retornar as derivadas da função Sigmóide\r\n",
    "def sigmoid_prime(z):\r\n",
    "    return sigmoid(z)*(1-sigmoid(z))"
   ],
   "outputs": [],
   "metadata": {}
  },
  {
   "cell_type": "markdown",
   "source": [
    "# Teste com Gradiente Descende e Backpropagation"
   ],
   "metadata": {}
  },
  {
   "cell_type": "code",
   "execution_count": 34,
   "source": [
    "# Imports\r\n",
    "import mnist_loader\r\n",
    "\r\n",
    "training_data, validation_data, test_data = mnist_loader.load_data_wrapper()\r\n",
    "training_data = list(training_data)\r\n",
    "\r\n",
    "\r\n",
    "net = Network([784, 30, 10])\r\n",
    "net.training(training_data, 5, 10, 3.0, test_data=test_data)"
   ],
   "outputs": [],
   "metadata": {}
  }
 ],
 "metadata": {
  "orig_nbformat": 4,
  "language_info": {
   "name": "python",
   "version": "3.8.8",
   "mimetype": "text/x-python",
   "codemirror_mode": {
    "name": "ipython",
    "version": 3
   },
   "pygments_lexer": "ipython3",
   "nbconvert_exporter": "python",
   "file_extension": ".py"
  },
  "kernelspec": {
   "name": "python3",
   "display_name": "Python 3.8.8 64-bit ('base': conda)"
  },
  "interpreter": {
   "hash": "4c4c8cfd539e0411d3cc5c1e72b05a7dbcf36342c56df37f381a6ef1a534e6cb"
  }
 },
 "nbformat": 4,
 "nbformat_minor": 2
}